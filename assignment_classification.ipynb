{
 "cells": [
  {
   "cell_type": "markdown",
   "metadata": {
    "id": "ePLSo3ldhbMO"
   },
   "source": [
    "# Assignment: Classification of Handwritten Digits\n",
    "\n",
    "In this assignment, we will use the $k$-nearest neighbour classifier and a dense neural network (multilayer perceptron) to classify handwritten digits from the MNIST dataset (http://yann.lecun.com/exdb/mnist/).\n",
    "\n"
   ]
  },
  {
   "cell_type": "markdown",
   "metadata": {
    "id": "ZBze6CRBsFs0"
   },
   "source": [
    "## Working together\n",
    "\n",
    "The assignment should be solved in **groups of two**. Copying code from other students, the Internet, or other sources is not allowed (the provided helper code excluded). If you want to work alone, you must have a compelling reason (that convinces us) for doing so."
   ]
  },
  {
   "cell_type": "markdown",
   "metadata": {
    "id": "4ZjTiT1_scVa"
   },
   "source": [
    "## Task\n",
    "\n",
    "You are given a dataset of images of handwritten digits (0 through 9) and the correct answers to train your machine learning models on.\n",
    "\n",
    "You need to divide the images into a training data set, (optionally) a validation data set, and a test set. You may also use cross-validation instead of a validation data set.\n",
    "\n",
    "After training, and after selecting the proper hyper-parameters (the number of neighbors, $k$, the number of layers, the number of neurons, *etc.*), classify the images in the test set to see how accurately your models classify unknown images. **Note**: You should *never* use, look at, or classify the test set until you have selected your final model. You are *not* allowed to continue training or do any model alterations after you have evaluated your models on the test data set.\n",
    "\n",
    "**In order to pass the assignment your solution must correctly classify at least 94 % of the *validation data set images* with the $k$-NN model and at least 97.7 % of the *validation data set images* with the neural network model.**"
   ]
  },
  {
   "cell_type": "markdown",
   "metadata": {
    "id": "EMtJ5wZvB0Ya"
   },
   "source": [
    "## What to hand in\n",
    "\n",
    "You should hand in a complete and well-written report (in `pdf` format) together with your Jupyter notebook electronically in Labres. Only one member per group hands in and marks the other member. **Note**: you cannot change group members after the first hand-in, so make sure you do it correct the first time.\n",
    "\n",
    "The report may be brief (try to keep it under 5 pages) but it is important that you fulfill the following requirements:\n",
    "\n",
    " * The report must have a title page including names and user names (@cs) for all group members, course name, and assignment name.\n",
    " * The report should be as short as possible and as long as necessary. If your report exceeds five pages (incl. the title page), chances are that you are doing something wrong.\n",
    " * Describe how your solution works on a level that does not lose interesting details. Divide the report into two parts (one for $k$-NN, the other for the neural network), and split each part into *implementation*, *results*, and *discussion* subsections.\n",
    "   - Most important is that you describe how your solution works, and why you solved it in a particular way. Clearly state the ranges for your hyper-parameters, and explain why you chose those.\n",
    "   - Explain, and give pseudo-code for your hyper-parameter search. Explain any decisions/choices you've made.\n",
    "   - For the neural network: Plot how the loss evolve during training of your best model, and interpret the plot. The loss is available in the `MLPClassifier` after training.\n",
    "   - Describe how your work went and which problems and issues you faced when developing the program.\n",
    "   - Describe how you divided the work between you.\n",
    "   - Use clear, well written English language.\n",
    "   - You must not include your source code in the report, supply it in the Jupyter notebook.\n",
    "   - **Report your validation scores in the report.**\n",
    "\n",
    "The source code should align to the following:\n",
    "\n",
    " * Comment the code in a reasonable way. Follow the [Docstring conventions](https://peps.python.org/pep-0257/).\n",
    " * Structure your code in a suitable way, such that it is easy to follow what is going on.\n",
    " * Name classes, variables, methods, modules, *etc.*, such that the names clearly describe their function and follow the specifications given above.\n",
    " * The code you hand in should not contain sections that are not used, or unnecessary. Make sure that you understand every part of the code that you hand in.\n",
    " * **Important:** hand in a notebook that contains your execution results, i.e., execute the notebook from scratch (**Kernel** - **Re-start and run all**) and save before you hand in."
   ]
  },
  {
   "cell_type": "markdown",
   "metadata": {
    "id": "DJlFR2GELAxa"
   },
   "source": [
    "(0.0, 12.835503845255062, 12.942854035804041, 15.28156305586402, 16.460695902002506, 16.903360735825814, 17.34445399900928, 17.51789065654819, 18.12224534213443, 18.197201290894796, 18.26386050027792, 19.242481959700587, 19.301777840695532, 19.41434530099523, 19.424882083423437, 19.430398445988516, 20.954693058171575, 21.12338029703305, 21.6616060640822, 22.36889056754387, 22.779691223091284, 23.50275467183818, 23.561340950224814, 24.81075264670982, 24.861033721670974, 25.309846090662734, 25.580666096184988, 25.770423046208155, 25.798152949941887, 26.2715698146788, 26.273829070345027, 26.675958498996945, 27.206914486324667, 27.310040575839007, 28.239220220555918, 28.699028775501983, 28.922012206417214, 29.23644840873465, 29.254256447649265, 29.55041306014339, 31.572917995386746, 32.35274296894808, 32.66119268957052, 33.244787047445044, 33.47915018555358, 35.33890364035942, 35.45237640144598, 36.53384829997628, 37.66012604126362, 40.060661152185155)\n",
    "(array([ 0. ## Getting started\n",
    "\n",
    "You can follow [these instructions](https://jupyter.org/install) to install Jupyter Notebook. Then, proceed as follows:\n",
    "\n",
    " - Download this notebook.\n",
    " - Start Jupyter Notebook\n",
    " - Open your saved copy of this notebook\n",
    "\n",
    "Alternatively, you can also use [Google Colab](https://colab.research.google.com/) to work on the assignment \"in the cloud\"."
   ]
  },
  {
   "cell_type": "markdown",
   "metadata": {
    "id": "OBJ704gG_GHP"
   },
   "source": [
    "**Note**: If you take the course Artificial Intelligence in Cognitive Science (5DV201), then set the following variable to `False`:\n",
    "\n"
   ]
  },
  {
   "cell_type": "code",
   "execution_count": 1,
   "metadata": {
    "id": "ua6te8J-_AVQ"
   },
   "outputs": [],
   "source": [
    "course_5DV124 = True"
   ]
  },
  {
   "cell_type": "code",
   "execution_count": 2,
   "metadata": {},
   "outputs": [],
   "source": [
    "%%capture\n",
    "# Install the dependencies (in case you use Google Colab, these should be available by default, though)\n",
    "! pip install --user -Iv numpy matplotlib sklearn==0.24.1"
   ]
  },
  {
   "cell_type": "code",
   "execution_count": 4,
   "metadata": {
    "id": "092ZQBfJzALh"
   },
   "outputs": [],
   "source": [
    "import numpy as np\n",
    "np.random.seed(42)  # Set the random seed for reproducible results"
   ]
  },
  {
   "cell_type": "code",
   "execution_count": 5,
   "metadata": {
    "id": "CPqG1Q30qsEB"
   },
   "outputs": [
    {
     "name": "stdout",
     "output_type": "stream",
     "text": [
      "**Author**: Yann LeCun, Corinna Cortes, Christopher J.C. Burges  \n",
      "**Source**: [MNIST Website](http://yann.lecun.com/exdb/mnist/) - Date unknown  \n",
      "**Please cite**:  \n",
      "\n",
      "The MNIST database of handwritten digits with 784 features, raw data available at: http://yann.lecun.com/exdb/mnist/. It can be split in a training set of the first 60,000 examples, and a test set of 10,000 examples  \n",
      "\n",
      "It is a subset of a larger set available from NIST. The digits have been size-normalized and centered in a fixed-size image. It is a good database for people who want to try learning techniques and pattern recognition methods on real-world data while spending minimal efforts on preprocessing and formatting. The original black and white (bilevel) images from NIST were size normalized to fit in a 20x20 pixel box while preserving their aspect ratio. The resulting images contain grey levels as a result of the anti-aliasing technique used by the normalization algorithm. the images were centered in a 28x28 image by computing the center of mass of the pixels, and translating the image so as to position this point at the center of the 28x28 field.  \n",
      "\n",
      "With some classification methods (particularly template-based methods, such as SVM and K-nearest neighbors), the error rate improves when the digits are centered by bounding box rather than center of mass. If you do this kind of pre-processing, you should report it in your publications. The MNIST database was constructed from NIST's NIST originally designated SD-3 as their training set and SD-1 as their test set. However, SD-3 is much cleaner and easier to recognize than SD-1. The reason for this can be found on the fact that SD-3 was collected among Census Bureau employees, while SD-1 was collected among high-school students. Drawing sensible conclusions from learning experiments requires that the result be independent of the choice of training set and test among the complete set of samples. Therefore it was necessary to build a new database by mixing NIST's datasets.  \n",
      "\n",
      "The MNIST training set is composed of 30,000 patterns from SD-3 and 30,000 patterns from SD-1. Our test set was composed of 5,000 patterns from SD-3 and 5,000 patterns from SD-1. The 60,000 pattern training set contained examples from approximately 250 writers. We made sure that the sets of writers of the training set and test set were disjoint. SD-1 contains 58,527 digit images written by 500 different writers. In contrast to SD-3, where blocks of data from each writer appeared in sequence, the data in SD-1 is scrambled. Writer identities for SD-1 is available and we used this information to unscramble the writers. We then split SD-1 in two: characters written by the first 250 writers went into our new training set. The remaining 250 writers were placed in our test set. Thus we had two sets with nearly 30,000 examples each. The new training set was completed with enough examples from SD-3, starting at pattern # 0, to make a full set of 60,000 training patterns. Similarly, the new test set was completed with SD-3 examples starting at pattern # 35,000 to make a full set with 60,000 test patterns. Only a subset of 10,000 test images (5,000 from SD-1 and 5,000 from SD-3) is available on this site. The full 60,000 sample training set is available.\n",
      "\n",
      "Downloaded from openml.org.\n"
     ]
    }
   ],
   "source": [
    "# Load the MNIST dataset (this may take a while)\n",
    "\n",
    "import sklearn.datasets\n",
    "\n",
    "data = sklearn.datasets.fetch_openml(\"mnist_784\")\n",
    "\n",
    "print(data.DESCR)"
   ]
  },
  {
   "cell_type": "code",
   "execution_count": 9,
   "metadata": {
    "id": "cgS9W1g4ztV9"
   },
   "outputs": [
    {
     "name": "stdout",
     "output_type": "stream",
     "text": [
      "Training set size X   : (52500, 784)\n",
      "Training set size y   : (52500,)\n",
      "Validation set size X : (8750, 784)\n",
      "Validation set size y : (8750,)\n",
      "Test set size X       : (8750, 784)\n",
      "Test set size y       : (8750,)\n",
      "Output classes        : {'5', '8', '7', '9', '6', '4', '0', '3', '1', '2'}\n"
     ]
    }
   ],
   "source": [
    "# Split the data into training, (validation), and test set\n",
    "\n",
    "from sklearn.model_selection import train_test_split\n",
    "\n",
    "\n",
    "Xtrain, Xtest, ytrain, ytest = train_test_split(data.data, data.target, test_size=0.25, random_state=1)\n",
    "\n",
    "# You may alternatively skip this / have a combined Xtrain and Xval here and instead use cross-validation below\n",
    "Xtest, Xval, ytest, yval = train_test_split(Xtest, ytest, test_size=0.5, random_state=1)\n",
    "Xtrain =  np.asarray(Xtrain)\n",
    "Xtest =  np.asarray(Xtest)\n",
    "Xval =  np.asarray(Xval)\n",
    "ytrain =  np.asarray(ytrain)\n",
    "Xtytestest =  np.asarray(ytest)\n",
    "yval =  np.asarray(yval)\n",
    "\n",
    "\n",
    "# Note! Do not touch the test data until the very end!\n",
    "\n",
    "print(f\"Training set size X   : {Xtrain.shape}\")\n",
    "print(f\"Training set size y   : {ytrain.shape}\")\n",
    "print(f\"Validation set size X : {Xval.shape}\")\n",
    "print(f\"Validation set size y : {yval.shape}\")\n",
    "print(f\"Test set size X       : {Xtest.shape}\")\n",
    "print(f\"Test set size y       : {ytest.shape}\")\n",
    "print(f\"Output classes        : {set(ytrain)}\")"
   ]
  },
  {
   "cell_type": "code",
   "execution_count": 7,
   "metadata": {
    "id": "2st_Xv3w12Tb"
   },
   "outputs": [
    {
     "data": {
      "image/png": "[encoded data removed]",
      "text/plain": [
       "<Figure size 1200x775 with 8 Axes>"
      ]
     },
     "metadata": {},
     "output_type": "display_data"
    }
   ],
   "source": [
    "# Plot a few images\n",
    "\n",
    "import matplotlib.pyplot as plt\n",
    "%matplotlib inline\n",
    "\n",
    "fig = plt.figure(figsize=(12, 7.75))\n",
    "fig.subplots_adjust(top=0.995,\n",
    "                    bottom=0.115,\n",
    "                    left=0.005,\n",
    "                    right=0.995,\n",
    "                    wspace=0.15,\n",
    "                    hspace=0.005)\n",
    "\n",
    "plot_array = (2, 4)\n",
    "ax = [[None] * plot_array[1]] * plot_array[0]\n",
    "it = 0\n",
    "for i in range(plot_array[0]):\n",
    "    for j in range(plot_array[1]):\n",
    "        ax[i][j] = plt.subplot2grid((2, 4), (i, j), rowspan=1, colspan=1)\n",
    "        ax[i][j].imshow(Xtrain[it, :].reshape((28, 28)))\n",
    "        ax[i][j].set_title(f\"Label: {ytrain[it]}\", fontsize=24)\n",
    "        it += 1"
   ]
  },
  {
   "cell_type": "code",
   "execution_count": 10,
   "metadata": {
    "id": "Xd0OxcEW5mq7"
   },
   "outputs": [
    {
     "name": "stdout",
     "output_type": "stream",
     "text": [
      "Before preprocessing, test data       : min = 0.0, max = 255.0, mean = 33.4, std = 78.7\n",
      "Before preprocessing, validation data : min = 0.0, max = 255.0, mean = 33.2, std = 78.5\n",
      "Before preprocessing, test data       : min = 0.0, max = 255.0, mean = 33.3, std = 78.6\n",
      "After preprocessing, test data        : min = -1.3, max = 229.1, mean = 0.0, std = 1.0\n",
      "After preprocessing, validation data  : min = -1.3, max = 418.4, mean = -0.0, std = 1.0\n",
      "After preprocessing, test data        : min = -1.3, max = 1211.1, mean = -0.0, std = 1.1\n"
     ]
    }
   ],
   "source": [
    "# Preprocess the data\n",
    "\n",
    "import sklearn.preprocessing\n",
    "\n",
    "print(f\"Before preprocessing, test data       : \"\n",
    "      f\"min = {np.min(Xtrain):.1f}, \"\n",
    "      f\"max = {np.max(Xtrain):.1f}, \"\n",
    "      f\"mean = {np.mean(Xtrain):.1f}, \"\n",
    "      f\"std = {np.std(Xtrain):.1f}\")\n",
    "print(f\"Before preprocessing, validation data : \"\n",
    "      f\"min = {np.min(Xval):.1f}, \"\n",
    "      f\"max = {np.max(Xval):.1f}, \"\n",
    "      f\"mean = {np.mean(Xval):.1f}, \"\n",
    "      f\"std = {np.std(Xval):.1f}\")\n",
    "print(f\"Before preprocessing, test data       : \"\n",
    "      f\"min = {np.min(Xtest):.1f}, \"\n",
    "      f\"max = {np.max(Xtest):.1f}, \"\n",
    "      f\"mean = {np.mean(Xtest):.1f}, \"\n",
    "      f\"std = {np.std(Xtest):.1f}\")\n",
    "\n",
    "#scaler = sklearn.preprocessing.MinMaxScaler(feature_range=(-1, 1))\n",
    "scaler = sklearn.preprocessing.StandardScaler()\n",
    "scaler.fit(Xtrain)  # Every statistic we compute is found on the training data!\n",
    "\n",
    "Xtrain = scaler.transform(Xtrain)\n",
    "Xval = scaler.transform(Xval)\n",
    "# TODO: If you do cross-validation, you must redo this on the training data in\n",
    "#       each cross-validation loop, and then transform the validation data as\n",
    "#       well!\n",
    "Xtest = scaler.transform(Xtest)\n",
    "\n",
    "print(f\"After preprocessing, test data        : \"\n",
    "      f\"min = {np.min(Xtrain):.1f}, \"\n",
    "      f\"max = {np.max(Xtrain):.1f}, \"\n",
    "      f\"mean = {np.mean(Xtrain):.1f}, \"\n",
    "      f\"std = {np.std(Xtrain):.1f}\")\n",
    "print(f\"After preprocessing, validation data  : \"\n",
    "      f\"min = {np.min(Xval):.1f}, \"\n",
    "      f\"max = {np.max(Xval):.1f}, \"\n",
    "      f\"mean = {np.mean(Xval):.1f}, \"\n",
    "      f\"std = {np.std(Xval):.1f}\")\n",
    "print(f\"After preprocessing, test data        : \"\n",
    "      f\"min = {np.min(Xtest):.1f}, \"\n",
    "      f\"max = {np.max(Xtest):.1f}, \"\n",
    "      f\"mean = {np.mean(Xtest):.1f}, \"\n",
    "      f\"std = {np.std(Xtest):.1f}\")\n",
    "\n",
    "# TODO: Try to apply other preprocessing, e.g. the\n",
    "#       sklearn.preprocessing.StandardScaler(), and see if the results improve."
   ]
  },
  {
   "cell_type": "markdown",
   "metadata": {
    "id": "_I-L0BtiwOMO"
   },
   "source": [
    "### The $k$-NN model\n",
    "\n",
    "If you take the course **5DV124**, then you will have to implement the $k$-NN classifier yourself. The below implementation uses the scikit-learn implementation of the $k$-NN classifier, but you need to do it yourself.\n",
    "\n",
    "If you take the course **5DV201**, then you can use the $k$-NN classifier from scikit-learn directly. You are of course free to also implement the $k$-NN classifier yourself, if you want to do that.\n",
    "\n",
    "In both cases, you need to perform a hyper-parameter search for the optimal number of neighbours, $k$."
   ]
  },
  {
   "cell_type": "code",
   "execution_count": 116,
   "metadata": {
    "id": "MMyn4Pt679bv"
   },
   "outputs": [
    {
     "name": "stdout",
     "output_type": "stream",
     "text": [
      "4\n",
      "0\n",
      "2\n",
      "6\n",
      "3\n",
      "2\n",
      "9\n",
      "3\n",
      "1\n",
      "5\n"
     ]
    }
   ],
   "source": [
    "# Create the k-NN classifier\n",
    "\n",
    "import sklearn.neighbors\n",
    "import statistics\n",
    "from statistics import mode\n",
    "\n",
    "# TODO: Create your own nearest neighbour classifier:\n",
    "class KNeighborsClassifier():\n",
    "\n",
    "    def __init__(self, n_neighbors=5):\n",
    "        self.k = n_neighbors\n",
    "    \n",
    "\n",
    "    def fit(self, X, y):\n",
    "        self.X = X\n",
    "        self.y = y\n",
    "\n",
    "    def predict(self, X):\n",
    "        for x in X:\n",
    "            print(self.classify(x))\n",
    "    \n",
    "    def classify(self, x):\n",
    "        distances = []\n",
    "        for i in range(len(self.X)):\n",
    "            \n",
    "            dist = np.linalg.norm(x - self.X[i])\n",
    "            distances.append(dist)\n",
    "        \n",
    "        a, b = zip(*sorted(zip(distances, self.y.copy())))\n",
    "        k_first = b[0:self.k]\n",
    "\n",
    "        return mode(k_first)\n",
    "\n",
    "    def euclidian_distance(self, vec_1, vec_2):\n",
    "        #print(type(vec_1))\n",
    "        #dist = np.linalg.norm(vec_1 - vec_2)\n",
    "        #print(dist)\n",
    "\n",
    "        x = math.sqrt(vec_1[100]**2 + vec_2[101]**2)\n",
    "        print(x)\n",
    "\n",
    "\n",
    "\n",
    "n = 10\n",
    "#k = math.ceil(math.sqrt(n))\n",
    "k = 3\n",
    "model = KNeighborsClassifier(n_neighbors=k)\n",
    "# TODO: The distance computations may take a long time. Play with different\n",
    "#       amounts of data here to see what's feasible for you. Get it to work\n",
    "#       on a small amount of data, and then run for a longer time with more\n",
    "#       data. You may not be able to use all data with the k-NN method,\n",
    "#       depending on the computer you have for this.\n",
    "model.fit(Xtrain[:n, :], ytrain[:n])\n",
    "model.predict(Xtrain[:n, :])"
   ]
  },
  {
   "cell_type": "code",
   "execution_count": 117,
   "metadata": {
    "id": "PFTZLR7zu1SI"
   },
   "outputs": [
    {
     "ename": "AttributeError",
     "evalue": "'KNeighborsClassifier' object has no attribute 'score'",
     "output_type": "error",
     "traceback": [
      "\u001b[0;31m---------------------------------------------------------------------------\u001b[0m",
      "\u001b[0;31mAttributeError\u001b[0m                            Traceback (most recent call last)",
      "Cell \u001b[0;32mIn [117], line 20\u001b[0m\n\u001b[1;32m     14\u001b[0m \u001b[38;5;66;03m# TODO: The distance computations may take a long time. Play with different\u001b[39;00m\n\u001b[1;32m     15\u001b[0m \u001b[38;5;66;03m#       amounts of data here to see what's feasible for you. Get it to work\u001b[39;00m\n\u001b[1;32m     16\u001b[0m \u001b[38;5;66;03m#       on a small amount of data, and then run for a longer time with more\u001b[39;00m\n\u001b[1;32m     17\u001b[0m \u001b[38;5;66;03m#       data. You may not be able to use all data with the k-NN method,\u001b[39;00m\n\u001b[1;32m     18\u001b[0m \u001b[38;5;66;03m#       depending on the computer you have for this.\u001b[39;00m\n\u001b[1;32m     19\u001b[0m model\u001b[38;5;241m.\u001b[39mfit(Xtrain[:n, :], ytrain[:n])\n\u001b[0;32m---> 20\u001b[0m err \u001b[38;5;241m=\u001b[39m \u001b[43mmodel\u001b[49m\u001b[38;5;241;43m.\u001b[39;49m\u001b[43mscore\u001b[49m(Xval[:n, :], yval[:n])\n\u001b[1;32m     21\u001b[0m \u001b[38;5;28mprint\u001b[39m(\u001b[38;5;124mf\u001b[39m\u001b[38;5;124m\"\u001b[39m\u001b[38;5;124mNumber of neighbours: k=\u001b[39m\u001b[38;5;132;01m{\u001b[39;00mk\u001b[38;5;132;01m}\u001b[39;00m\u001b[38;5;124m, validation accuracy: \u001b[39m\u001b[38;5;132;01m{\u001b[39;00merr\u001b[38;5;132;01m}\u001b[39;00m\u001b[38;5;124m\"\u001b[39m)\n\u001b[1;32m     22\u001b[0m errs_val\u001b[38;5;241m.\u001b[39mappend(err)\n",
      "\u001b[0;31mAttributeError\u001b[0m: 'KNeighborsClassifier' object has no attribute 'score'"
     ]
    }
   ],
   "source": [
    "# Perform grid search to find the number of neighbours, K\n",
    "import math\n",
    "\n",
    "k_max = 10  # Set the maximum number of neighbours considered\n",
    "\n",
    "errs_val = []\n",
    "# TODO: Perform a hyper-parameter search for the parameter k here. Either use\n",
    "#       the validation dataset, or optionally use cross-validation here.\n",
    "\n",
    "n = 1000\n",
    "#k = math.ceil(math.sqrt(n))\n",
    "k = 3\n",
    "model = KNeighborsClassifier(n_neighbors=k)\n",
    "# TODO: The distance computations may take a long time. Play with different\n",
    "#       amounts of data here to see what's feasible for you. Get it to work\n",
    "#       on a small amount of data, and then run for a longer time with more\n",
    "#       data. You may not be able to use all data with the k-NN method,\n",
    "#       depending on the computer you have for this.\n",
    "model.fit(Xtrain[:n, :], ytrain[:n])\n",
    "err = model.score(Xval[:n, :], yval[:n])\n",
    "print(f\"Number of neighbours: k={k}, validation accuracy: {err}\")\n",
    "errs_val.append(err)\n",
    "\n",
    "print(\"Grid search done!\")"
   ]
  },
  {
   "cell_type": "code",
   "execution_count": 38,
   "metadata": {
    "id": "RUzpOWkpczOi"
   },
   "outputs": [
    {
     "data": {
      "text/plain": [
       "Text(0, 0.5, 'Validation Accuracy')"
      ]
     },
     "execution_count": 38,
     "metadata": {},
     "output_type": "execute_result"
    },
    {
     "data": {
      "image/png": "[encoded data removed]",
      "text/plain": [
       "<Figure size 800x500 with 1 Axes>"
      ]
     },
     "metadata": {},
     "output_type": "display_data"
    }
   ],
   "source": [
    "# Plot the accuracy curve as a function of k\n",
    "\n",
    "fig = plt.figure(figsize=(8, 5))\n",
    "fig.subplots_adjust(top=0.995,\n",
    "                    bottom=0.115,\n",
    "                    left=0.005,\n",
    "                    right=0.995,\n",
    "                    wspace=0.15,\n",
    "                    hspace=0.005)\n",
    "\n",
    "ax0 = plt.subplot2grid((1, 1), (0, 0), rowspan=1, colspan=1)\n",
    "ax0.plot(range(1, len(errs_val) + 1), errs_val)\n",
    "ax0.set_title(\"Result of $k$-NN Grid-Search\", fontsize=24)\n",
    "ax0.set_xlabel(\"Number of Neighbours, $k$\", fontsize=16)\n",
    "ax0.set_ylabel(\"Validation Accuracy\", fontsize=16)"
   ]
  },
  {
   "cell_type": "code",
   "execution_count": 39,
   "metadata": {
    "id": "FO2nAY0WvzJ5"
   },
   "outputs": [
    {
     "ename": "ValueError",
     "evalue": "attempt to get argmax of an empty sequence",
     "output_type": "error",
     "traceback": [
      "\u001b[0;31m---------------------------------------------------------------------------\u001b[0m",
      "\u001b[0;31mValueError\u001b[0m                                Traceback (most recent call last)",
      "Cell \u001b[0;32mIn [39], line 3\u001b[0m\n\u001b[1;32m      1\u001b[0m \u001b[38;5;66;03m# Train the final k-NN model with the best value for k\u001b[39;00m\n\u001b[0;32m----> 3\u001b[0m k_best \u001b[38;5;241m=\u001b[39m \u001b[43mnp\u001b[49m\u001b[38;5;241;43m.\u001b[39;49m\u001b[43margmax\u001b[49m\u001b[43m(\u001b[49m\u001b[43merrs_val\u001b[49m\u001b[43m)\u001b[49m \u001b[38;5;241m+\u001b[39m \u001b[38;5;241m1\u001b[39m  \u001b[38;5;66;03m# Note that k=1 is at index 0.\u001b[39;00m\n\u001b[1;32m      4\u001b[0m \u001b[38;5;28mprint\u001b[39m(\u001b[38;5;124mf\u001b[39m\u001b[38;5;124m\"\u001b[39m\u001b[38;5;124mThe best value was \u001b[39m\u001b[38;5;132;01m{\u001b[39;00merrs_val[k_best \u001b[38;5;241m-\u001b[39m \u001b[38;5;241m1\u001b[39m]\u001b[38;5;132;01m}\u001b[39;00m\u001b[38;5;124m, found using k=\u001b[39m\u001b[38;5;132;01m{\u001b[39;00mk_best\u001b[38;5;132;01m}\u001b[39;00m\u001b[38;5;124m.\u001b[39m\u001b[38;5;124m\"\u001b[39m)\n\u001b[1;32m      6\u001b[0m model_knn \u001b[38;5;241m=\u001b[39m KNeighborsClassifier(n_neighbors\u001b[38;5;241m=\u001b[39mk_best)\n",
      "File \u001b[0;32m<__array_function__ internals>:5\u001b[0m, in \u001b[0;36margmax\u001b[0;34m(*args, **kwargs)\u001b[0m\n",
      "File \u001b[0;32m/pkg/anaconda/2021.11/lib/python3.9/site-packages/numpy/core/fromnumeric.py:1193\u001b[0m, in \u001b[0;36margmax\u001b[0;34m(a, axis, out)\u001b[0m\n\u001b[1;32m   1119\u001b[0m \u001b[38;5;129m@array_function_dispatch\u001b[39m(_argmax_dispatcher)\n\u001b[1;32m   1120\u001b[0m \u001b[38;5;28;01mdef\u001b[39;00m \u001b[38;5;21margmax\u001b[39m(a, axis\u001b[38;5;241m=\u001b[39m\u001b[38;5;28;01mNone\u001b[39;00m, out\u001b[38;5;241m=\u001b[39m\u001b[38;5;28;01mNone\u001b[39;00m):\n\u001b[1;32m   1121\u001b[0m     \u001b[38;5;124;03m\"\"\"\u001b[39;00m\n\u001b[1;32m   1122\u001b[0m \u001b[38;5;124;03m    Returns the indices of the maximum values along an axis.\u001b[39;00m\n\u001b[1;32m   1123\u001b[0m \n\u001b[0;32m   (...)\u001b[0m\n\u001b[1;32m   1191\u001b[0m \n\u001b[1;32m   1192\u001b[0m \u001b[38;5;124;03m    \"\"\"\u001b[39;00m\n\u001b[0;32m-> 1193\u001b[0m     \u001b[38;5;28;01mreturn\u001b[39;00m \u001b[43m_wrapfunc\u001b[49m\u001b[43m(\u001b[49m\u001b[43ma\u001b[49m\u001b[43m,\u001b[49m\u001b[43m \u001b[49m\u001b[38;5;124;43m'\u001b[39;49m\u001b[38;5;124;43margmax\u001b[39;49m\u001b[38;5;124;43m'\u001b[39;49m\u001b[43m,\u001b[49m\u001b[43m \u001b[49m\u001b[43maxis\u001b[49m\u001b[38;5;241;43m=\u001b[39;49m\u001b[43maxis\u001b[49m\u001b[43m,\u001b[49m\u001b[43m \u001b[49m\u001b[43mout\u001b[49m\u001b[38;5;241;43m=\u001b[39;49m\u001b[43mout\u001b[49m\u001b[43m)\u001b[49m\n",
      "File \u001b[0;32m/pkg/anaconda/2021.11/lib/python3.9/site-packages/numpy/core/fromnumeric.py:55\u001b[0m, in \u001b[0;36m_wrapfunc\u001b[0;34m(obj, method, *args, **kwds)\u001b[0m\n\u001b[1;32m     53\u001b[0m bound \u001b[38;5;241m=\u001b[39m \u001b[38;5;28mgetattr\u001b[39m(obj, method, \u001b[38;5;28;01mNone\u001b[39;00m)\n\u001b[1;32m     54\u001b[0m \u001b[38;5;28;01mif\u001b[39;00m bound \u001b[38;5;129;01mis\u001b[39;00m \u001b[38;5;28;01mNone\u001b[39;00m:\n\u001b[0;32m---> 55\u001b[0m     \u001b[38;5;28;01mreturn\u001b[39;00m \u001b[43m_wrapit\u001b[49m\u001b[43m(\u001b[49m\u001b[43mobj\u001b[49m\u001b[43m,\u001b[49m\u001b[43m \u001b[49m\u001b[43mmethod\u001b[49m\u001b[43m,\u001b[49m\u001b[43m \u001b[49m\u001b[38;5;241;43m*\u001b[39;49m\u001b[43margs\u001b[49m\u001b[43m,\u001b[49m\u001b[43m \u001b[49m\u001b[38;5;241;43m*\u001b[39;49m\u001b[38;5;241;43m*\u001b[39;49m\u001b[43mkwds\u001b[49m\u001b[43m)\u001b[49m\n\u001b[1;32m     57\u001b[0m \u001b[38;5;28;01mtry\u001b[39;00m:\n\u001b[1;32m     58\u001b[0m     \u001b[38;5;28;01mreturn\u001b[39;00m bound(\u001b[38;5;241m*\u001b[39margs, \u001b[38;5;241m*\u001b[39m\u001b[38;5;241m*\u001b[39mkwds)\n",
      "File \u001b[0;32m/pkg/anaconda/2021.11/lib/python3.9/site-packages/numpy/core/fromnumeric.py:44\u001b[0m, in \u001b[0;36m_wrapit\u001b[0;34m(obj, method, *args, **kwds)\u001b[0m\n\u001b[1;32m     42\u001b[0m \u001b[38;5;28;01mexcept\u001b[39;00m \u001b[38;5;167;01mAttributeError\u001b[39;00m:\n\u001b[1;32m     43\u001b[0m     wrap \u001b[38;5;241m=\u001b[39m \u001b[38;5;28;01mNone\u001b[39;00m\n\u001b[0;32m---> 44\u001b[0m result \u001b[38;5;241m=\u001b[39m \u001b[38;5;28;43mgetattr\u001b[39;49m\u001b[43m(\u001b[49m\u001b[43masarray\u001b[49m\u001b[43m(\u001b[49m\u001b[43mobj\u001b[49m\u001b[43m)\u001b[49m\u001b[43m,\u001b[49m\u001b[43m \u001b[49m\u001b[43mmethod\u001b[49m\u001b[43m)\u001b[49m\u001b[43m(\u001b[49m\u001b[38;5;241;43m*\u001b[39;49m\u001b[43margs\u001b[49m\u001b[43m,\u001b[49m\u001b[43m \u001b[49m\u001b[38;5;241;43m*\u001b[39;49m\u001b[38;5;241;43m*\u001b[39;49m\u001b[43mkwds\u001b[49m\u001b[43m)\u001b[49m\n\u001b[1;32m     45\u001b[0m \u001b[38;5;28;01mif\u001b[39;00m wrap:\n\u001b[1;32m     46\u001b[0m     \u001b[38;5;28;01mif\u001b[39;00m \u001b[38;5;129;01mnot\u001b[39;00m \u001b[38;5;28misinstance\u001b[39m(result, mu\u001b[38;5;241m.\u001b[39mndarray):\n",
      "\u001b[0;31mValueError\u001b[0m: attempt to get argmax of an empty sequence"
     ]
    }
   ],
   "source": [
    "# Train the final k-NN model with the best value for k\n",
    "\n",
    "k_best = np.argmax(errs_val) + 1  # Note that k=1 is at index 0.\n",
    "print(f\"The best value was {errs_val[k_best - 1]}, found using k={k_best}.\")\n",
    "\n",
    "model_knn = KNeighborsClassifier(n_neighbors=k_best)\n",
    "model_knn.fit(Xtrain[:50000, :], ytrain[:50000])\n",
    "err = model_knn.score(Xval[:10000, :], yval[:10000])\n",
    "print(f\"Final validation accuracy: {err}\")"
   ]
  },
  {
   "cell_type": "markdown",
   "metadata": {
    "id": "ESiZjUNjxy7b"
   },
   "source": [
    "### The neural network model\n",
    "\n",
    "We will use the neural networks (multilayer perceptrons) implemented in scikit-learn. You need to find the optimal number of layers, the number of neurons in each of the layers, and any other hyper-parameters that may be relevant."
   ]
  },
  {
   "cell_type": "code",
   "execution_count": null,
   "metadata": {
    "id": "bC0_DAq4kHkc"
   },
   "outputs": [],
   "source": [
    "0.0, max = 255.0, mean = 33.4, std = 78.7\n",
    "Before preprocessing, validation data : min = 0.0, max = 255.0, mean = 33.2, std = 78.5\n",
    "Before preprocessing, test data       : min = 0.0, max = 255.0, mean = 33.3, std = 78.6\n",
    "After preprocessing, test data        : min = -1.0, max = 1.0, mean = -0.7, std = 0.6# Create the NN classifier\n",
    "\n",
    "import sklearn.neural_network\n",
    "\n",
    "# TODO: Perform grid search to find the number of layers, the number of neurons\n",
    "#       in each layer, etc.\n",
    "\n",
    "# Set the maximum and minimum number of neurons for each layer.\n",
    "hidden_layer_sizes_min = [200, 100]\n",
    "hidden_layer_sizes_max = [300, 200]\n",
    "# TODO: Try different numbers of layers and different numbers of neurons.\n",
    "\n",
    "# TODO: You may have to test other hyper-parameters than just the number of\n",
    "#       layers and the number of artificial neurons in each layer. It might be\n",
    "#       worth varying the learning rate as well, for instance.\n",
    "\n",
    "errs_val = {}\n",
    "num_neurons_1 = 100\n",
    "num_neurons_2 = 100\n",
    "# num_neurons_3 = 100\n",
    "hidden_layer_sizes = (num_neurons_1, num_neurons_2)  # , num_neurons_3)\n",
    "model = sklearn.neural_network.MLPClassifier(\n",
    "    hidden_layer_sizes=hidden_layer_sizes,\n",
    "    activation='relu',\n",
    "    alpha=0.0001,\n",
    "    batch_size='auto',\n",
    "    learning_rate_init=0.001,\n",
    "    max_iter=200,\n",
    ")\n",
    "# TODO: The computations may take a long time here as well. Play with\n",
    "#       different amounts of data to see what's feasible on your\n",
    "#       computer. Get it to work on a small amount of data first, and\n",
    "#       then run for a longer time with more data. More data here will\n",
    "#       improve the results. Using all data may take a long time, but\n",
    "#       will give good results.\n",
    "model.fit(Xtrain[:50000, :], ytrain[:50000])\n",
    "# NOTE: You need to adjust this when you extend your search space and also consider\n",
    "# hyperparameters like learning rate\n",
    "err = model.score(Xval[:10000, :], yval[:10000])\n",
    "print(f\"Hidden layer sizes: {hidden_layer_sizes}, \"\n",
    "        f\"validation accuracy: {err}\")\n",
    "errs_val[hidden_layer_sizes] = err\n",
    "\n",
    "print(\"Grid search done!\")"
   ]
  },
  {
   "cell_type": "code",
   "execution_count": null,
   "metadata": {
    "id": "29OqeZmELELJ"
   },
   "outputs": [],
   "source": [
    "# Train the final model using the best layer sizes\n",
    "\n",
    "hidden_layer_sizes_best = max(errs_val, key=errs_val.get, default='')\n",
    "print(f\"The best value was {errs_val[hidden_layer_sizes_best]}, \"\n",
    "      f\"found using layer sizes: {hidden_layer_sizes_best}.\")\n",
    "\n",
    "model_ann = sklearn.neural_network.MLPClassifier(\n",
    "    hidden_layer_sizes=hidden_layer_sizes_best,\n",
    "    alpha=0.0001,\n",
    "    batch_size='auto',\n",
    "    learning_rate_init=0.001,\n",
    "    max_iter=200,\n",
    ")\n",
    "\n",
    "model_ann.fit(Xtrain[:50000, :], ytrain[:50000])\n",
    "err = model_ann.score(Xval[:10000, :], yval[:10000])\n",
    "\n",
    "print(f\"Final validation accuracy: {err}\")"
   ]
  },
  {
   "cell_type": "markdown",
   "metadata": {
    "id": "_iqH_Kj24hDG"
   },
   "source": [
    "Once we have selected our final model, we can compute the test error on the final models as the last thing we do. Make sure to only do this at the very end, after you have selected the best models you can find."
   ]
  },
  {
   "cell_type": "code",
   "execution_count": null,
   "metadata": {
    "id": "vuQfK309lkf4"
   },
   "outputs": [],
   "source": [
    "# Evaluate the final model on all the data sets, including the test data. We\n",
    "# only evaluate the test data once, and as the last thing we do. If you train\n",
    "# another model after this, based on the performance on the test data, then your\n",
    "# test data is effectively a validation dataset, and you no longer have a test\n",
    "# dataset. (Or, if you keep your test data set, then your results are biased and\n",
    "# by that unreliable.)\n",
    "print(f\"k-NN model training data accuracy  : {model_knn.score(Xtrain, ytrain)}\")\n",
    "print(f\"k-NN model validation data accuracy: {model_knn.score(Xval, yval)}\")\n",
    "if False:  # Change this to True as the very last thing you do!\n",
    "    print(f\"k-NN model test data accuracy      : \"\n",
    "          f\"{model_knn.score(Xtest, ytest)}\")\n",
    "\n",
    "print(f\"ANN model training data accuracy   : {model_ann.score(Xtrain, ytrain)}\")\n",
    "print(f\"ANN model validation data accuracy : {model_ann.score(Xval, yval)}\")\n",
    "if False:  # Change this to True as the very last thing you do!\n",
    "    print(f\"ANN model test data accuracy       : \"\n",
    "          f\"{model_ann.score(Xtest, ytest)}\")"
   ]
  }
 ],
 "metadata": {
  "colab": {
   "collapsed_sections": [],
   "name": "assignment_classification.ipynb",
   "provenance": []
  },
  "kernelspec": {
   "display_name": "Python 3 (ipykernel)",
   "language": "python",
   "name": "python3"
  },
  "language_info": {
   "codemirror_mode": {
    "name": "ipython",
    "version": 3
   },
   "file_extension": ".py",
   "mimetype": "text/x-python",
   "name": "python",
   "nbconvert_exporter": "python",
   "pygments_lexer": "ipython3",
   "version": "3.9.7"
  }
 },
 "nbformat": 4,
 "nbformat_minor": 4
}
