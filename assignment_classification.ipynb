{
 "cells": [
  {
   "cell_type": "markdown",
   "metadata": {
    "id": "ePLSo3ldhbMO"
   },
   "source": [
    "# Assignment: Classification of Handwritten Digits\n",
    "\n",
    "In this assignment, we will use the $k$-nearest neighbour classifier and a dense neural network (multilayer perceptron) to classify handwritten digits from the MNIST dataset (http://yann.lecun.com/exdb/mnist/).\n",
    "\n"
   ]
  },
  {
   "cell_type": "markdown",
   "metadata": {
    "id": "ZBze6CRBsFs0"
   },
   "source": [
    "## Working together\n",
    "\n",
    "The assignment should be solved in **groups of two**. Copying code from other students, the Internet, or other sources is not allowed (the provided helper code excluded). If you want to work alone, you must have a compelling reason (that convinces us) for doing so."
   ]
  },
  {
   "cell_type": "markdown",
   "metadata": {
    "id": "4ZjTiT1_scVa"
   },
   "source": [
    "## Task\n",
    "\n",
    "You are given a dataset of images of handwritten digits (0 through 9) and the correct answers to train your machine learning models on.\n",
    "\n",
    "You need to divide the images into a training data set, (optionally) a validation data set, and a test set. You may also use cross-validation instead of a validation data set.\n",
    "\n",
    "After training, and after selecting the proper hyper-parameters (the number of neighbors, $k$, the number of layers, the number of neurons, *etc.*), classify the images in the test set to see how accurately your models classify unknown images. **Note**: You should *never* use, look at, or classify the test set until you have selected your final model. You are *not* allowed to continue training or do any model alterations after you have evaluated your models on the test data set.\n",
    "\n",
    "**In order to pass the assignment your solution must correctly classify at least 94 % of the *validation data set images* with the $k$-NN model and at least 97.7 % of the *validation data set images* with the neural network model.**"
   ]
  },
  {
   "cell_type": "markdown",
   "metadata": {
    "id": "EMtJ5wZvB0Ya"
   },
   "source": [
    "## What to hand in\n",
    "\n",
    "You should hand in a complete and well-written report (in `pdf` format) together with your Jupyter notebook electronically in Labres. Only one member per group hands in and marks the other member. **Note**: you cannot change group members after the first hand-in, so make sure you do it correct the first time.\n",
    "\n",
    "The report may be brief (try to keep it under 5 pages) but it is important that you fulfill the following requirements:\n",
    "\n",
    " * The report must have a title page including names and user names (@cs) for all group members, course name, and assignment name.\n",
    " * The report should be as short as possible and as long as necessary. If your report exceeds five pages (incl. the title page), chances are that you are doing something wrong.\n",
    " * Describe how your solution works on a level that does not lose interesting details. Divide the report into two parts (one for $k$-NN, the other for the neural network), and split each part into *implementation*, *results*, and *discussion* subsections.\n",
    "   - Most important is that you describe how your solution works, and why you solved it in a particular way. Clearly state the ranges for your hyper-parameters, and explain why you chose those.\n",
    "   - Explain, and give pseudo-code for your hyper-parameter search. Explain any decisions/choices you've made.\n",
    "   - For the neural network: Plot how the loss evolve during training of your best model, and interpret the plot. The loss is available in the `MLPClassifier` after training.\n",
    "   - Describe how your work went and which problems and issues you faced when developing the program.\n",
    "   - Describe how you divided the work between you.\n",
    "   - Use clear, well written English language.\n",
    "   - You must not include your source code in the report, supply it in the Jupyter notebook.\n",
    "   - **Report your validation scores in the report.**\n",
    "\n",
    "The source code should align to the following:\n",
    "\n",
    " * Comment the code in a reasonable way. Follow the [Docstring conventions](https://peps.python.org/pep-0257/).\n",
    " * Structure your code in a suitable way, such that it is easy to follow what is going on.\n",
    " * Name classes, variables, methods, modules, *etc.*, such that the names clearly describe their function and follow the specifications given above.\n",
    " * The code you hand in should not contain sections that are not used, or unnecessary. Make sure that you understand every part of the code that you hand in.\n",
    " * **Important:** hand in a notebook that contains your execution results, i.e., execute the notebook from scratch (**Kernel** - **Re-start and run all**) and save before you hand in."
   ]
  },
  {
   "cell_type": "markdown",
   "metadata": {
    "id": "DJlFR2GELAxa"
   },
   "source": [
    "(0.0, 12.835503845255062, 12.942854035804041, 15.28156305586402, 16.460695902002506, 16.903360735825814, 17.34445399900928, 17.51789065654819, 18.12224534213443, 18.197201290894796, 18.26386050027792, 19.242481959700587, 19.301777840695532, 19.41434530099523, 19.424882083423437, 19.430398445988516, 20.954693058171575, 21.12338029703305, 21.6616060640822, 22.36889056754387, 22.779691223091284, 23.50275467183818, 23.561340950224814, 24.81075264670982, 24.861033721670974, 25.309846090662734, 25.580666096184988, 25.770423046208155, 25.798152949941887, 26.2715698146788, 26.273829070345027, 26.675958498996945, 27.206914486324667, 27.310040575839007, 28.239220220555918, 28.699028775501983, 28.922012206417214, 29.23644840873465, 29.254256447649265, 29.55041306014339, 31.572917995386746, 32.35274296894808, 32.66119268957052, 33.244787047445044, 33.47915018555358, 35.33890364035942, 35.45237640144598, 36.53384829997628, 37.66012604126362, 40.060661152185155)\n",
    "(array([ 0. ## Getting started\n",
    "\n",
    "You can follow [these instructions](https://jupyter.org/install) to install Jupyter Notebook. Then, proceed as follows:\n",
    "\n",
    " - Download this notebook.\n",
    " - Start Jupyter Notebook\n",
    " - Open your saved copy of this notebook\n",
    "\n",
    "Alternatively, you can also use [Google Colab](https://colab.research.google.com/) to work on the assignment \"in the cloud\"."
   ]
  },
  {
   "cell_type": "markdown",
   "metadata": {
    "id": "OBJ704gG_GHP"
   },
   "source": [
    "**Note**: If you take the course Artificial Intelligence in Cognitive Science (5DV201), then set the following variable to `False`:\n",
    "\n"
   ]
  },
  {
   "cell_type": "code",
   "execution_count": 1,
   "metadata": {
    "id": "ua6te8J-_AVQ"
   },
   "outputs": [],
   "source": [
    "course_5DV124 = True"
   ]
  },
  {
   "cell_type": "code",
   "execution_count": 2,
   "metadata": {},
   "outputs": [],
   "source": [
    "%%capture\n",
    "# Install the dependencies (in case you use Google Colab, these should be available by default, though)\n",
    "! pip install -Iv numpy matplotlib sklearn==0.24.1 --user "
   ]
  },
  {
   "cell_type": "code",
   "execution_count": 3,
   "metadata": {
    "id": "092ZQBfJzALh"
   },
   "outputs": [],
   "source": [
    "import numpy as np\n",
    "np.random.seed(42)  # Set the random seed for reproducible results"
   ]
  },
  {
   "cell_type": "code",
   "execution_count": 4,
   "metadata": {
    "id": "CPqG1Q30qsEB"
   },
   "outputs": [
    {
     "name": "stdout",
     "output_type": "stream",
     "text": [
      "**Author**: Yann LeCun, Corinna Cortes, Christopher J.C. Burges  \n",
      "**Source**: [MNIST Website](http://yann.lecun.com/exdb/mnist/) - Date unknown  \n",
      "**Please cite**:  \n",
      "\n",
      "The MNIST database of handwritten digits with 784 features, raw data available at: http://yann.lecun.com/exdb/mnist/. It can be split in a training set of the first 60,000 examples, and a test set of 10,000 examples  \n",
      "\n",
      "It is a subset of a larger set available from NIST. The digits have been size-normalized and centered in a fixed-size image. It is a good database for people who want to try learning techniques and pattern recognition methods on real-world data while spending minimal efforts on preprocessing and formatting. The original black and white (bilevel) images from NIST were size normalized to fit in a 20x20 pixel box while preserving their aspect ratio. The resulting images contain grey levels as a result of the anti-aliasing technique used by the normalization algorithm. the images were centered in a 28x28 image by computing the center of mass of the pixels, and translating the image so as to position this point at the center of the 28x28 field.  \n",
      "\n",
      "With some classification methods (particularly template-based methods, such as SVM and K-nearest neighbors), the error rate improves when the digits are centered by bounding box rather than center of mass. If you do this kind of pre-processing, you should report it in your publications. The MNIST database was constructed from NIST's NIST originally designated SD-3 as their training set and SD-1 as their test set. However, SD-3 is much cleaner and easier to recognize than SD-1. The reason for this can be found on the fact that SD-3 was collected among Census Bureau employees, while SD-1 was collected among high-school students. Drawing sensible conclusions from learning experiments requires that the result be independent of the choice of training set and test among the complete set of samples. Therefore it was necessary to build a new database by mixing NIST's datasets.  \n",
      "\n",
      "The MNIST training set is composed of 30,000 patterns from SD-3 and 30,000 patterns from SD-1. Our test set was composed of 5,000 patterns from SD-3 and 5,000 patterns from SD-1. The 60,000 pattern training set contained examples from approximately 250 writers. We made sure that the sets of writers of the training set and test set were disjoint. SD-1 contains 58,527 digit images written by 500 different writers. In contrast to SD-3, where blocks of data from each writer appeared in sequence, the data in SD-1 is scrambled. Writer identities for SD-1 is available and we used this information to unscramble the writers. We then split SD-1 in two: characters written by the first 250 writers went into our new training set. The remaining 250 writers were placed in our test set. Thus we had two sets with nearly 30,000 examples each. The new training set was completed with enough examples from SD-3, starting at pattern # 0, to make a full set of 60,000 training patterns. Similarly, the new test set was completed with SD-3 examples starting at pattern # 35,000 to make a full set with 60,000 test patterns. Only a subset of 10,000 test images (5,000 from SD-1 and 5,000 from SD-3) is available on this site. The full 60,000 sample training set is available.\n",
      "\n",
      "Downloaded from openml.org.\n"
     ]
    }
   ],
   "source": [
    "# Load the MNIST dataset (this may take a while)\n",
    "\n",
    "import sklearn.datasets\n",
    "\n",
    "data = sklearn.datasets.fetch_openml(\"mnist_784\")\n",
    "\n",
    "print(data.DESCR)"
   ]
  },
  {
   "cell_type": "code",
   "execution_count": 5,
   "metadata": {
    "id": "cgS9W1g4ztV9"
   },
   "outputs": [
    {
     "name": "stdout",
     "output_type": "stream",
     "text": [
      "Training set size X   : (52500, 784)\n",
      "Training set size y   : (52500,)\n",
      "Test set size X       : (17500, 784)\n",
      "Test set size y       : (17500,)\n",
      "Output classes        : {'0', '8', '5', '4', '7', '2', '3', '1', '9', '6'}\n"
     ]
    }
   ],
   "source": [
    "# Split the data into training, (validation), and test set\n",
    "\n",
    "from sklearn.model_selection import train_test_split\n",
    "\n",
    "Xtrain, Xtest, ytrain, ytest = train_test_split(data.data, data.target, test_size=0.25, random_state=1)\n",
    "Xtrain =  np.asarray(Xtrain)\n",
    "Xtest =  np.asarray(Xtest)\n",
    "ytrain =  np.asarray(ytrain)\n",
    "ytest =  np.asarray(ytest)\n",
    "\n",
    "# Note! Do not touch the test data until the very end!\n",
    "\n",
    "print(f\"Training set size X   : {Xtrain.shape}\")\n",
    "print(f\"Training set size y   : {ytrain.shape}\")\n",
    "print(f\"Test set size X       : {Xtest.shape}\")\n",
    "print(f\"Test set size y       : {ytest.shape}\")\n",
    "print(f\"Output classes        : {set(ytrain)}\")"
   ]
  },
  {
   "cell_type": "code",
   "execution_count": 6,
   "metadata": {
    "id": "2st_Xv3w12Tb"
   },
   "outputs": [
    {
     "data": {
      "image/png": "[encoded data removed]",
      "text/plain": [
       "<Figure size 1200x775 with 8 Axes>"
      ]
     },
     "metadata": {},
     "output_type": "display_data"
    }
   ],
   "source": [
    "# Plot a few images\n",
    "\n",
    "import matplotlib.pyplot as plt\n",
    "%matplotlib inline\n",
    "\n",
    "fig = plt.figure(figsize=(12, 7.75))\n",
    "fig.subplots_adjust(top=0.995,\n",
    "                    bottom=0.115,\n",
    "                    left=0.005,\n",
    "                    right=0.995,\n",
    "                    wspace=0.15,\n",
    "                    hspace=0.005)\n",
    "\n",
    "plot_array = (2, 4)\n",
    "ax = [[None] * plot_array[1]] * plot_array[0]\n",
    "it = 0\n",
    "for i in range(plot_array[0]):\n",
    "    for j in range(plot_array[1]):\n",
    "        ax[i][j] = plt.subplot2grid((2, 4), (i, j), rowspan=1, colspan=1)\n",
    "        ax[i][j].imshow(Xtrain[it, :].reshape((28, 28)))\n",
    "        ax[i][j].set_title(f\"Label: {ytrain[it]}\", fontsize=24)\n",
    "        it += 1"
   ]
  },
  {
   "cell_type": "code",
   "execution_count": 7,
   "metadata": {
    "id": "Xd0OxcEW5mq7"
   },
   "outputs": [
    {
     "name": "stdout",
     "output_type": "stream",
     "text": [
      "Before preprocessing, test data       : min = 0.0, max = 255.0, mean = 33.4, std = 78.7\n",
      "Before preprocessing, test data       : min = 0.0, max = 255.0, mean = 33.3, std = 78.5\n",
      "After preprocessing, test data        : min = -1.3, max = 229.1, mean = 0.0, std = 1.0\n",
      "After preprocessing, test data        : min = -1.3, max = 1211.1, mean = -0.0, std = 1.0\n"
     ]
    }
   ],
   "source": [
    "# Preprocess the data\n",
    "\n",
    "import sklearn.preprocessing\n",
    "\n",
    "print(f\"Before preprocessing, test data       : \"\n",
    "      f\"min = {np.min(Xtrain):.1f}, \"\n",
    "      f\"max = {np.max(Xtrain):.1f}, \"\n",
    "      f\"mean = {np.mean(Xtrain):.1f}, \"\n",
    "      f\"std = {np.std(Xtrain):.1f}\")\n",
    "\n",
    "print(f\"Before preprocessing, test data       : \"\n",
    "      f\"min = {np.min(Xtest):.1f}, \"\n",
    "      f\"max = {np.max(Xtest):.1f}, \"\n",
    "      f\"mean = {np.mean(Xtest):.1f}, \"\n",
    "      f\"std = {np.std(Xtest):.1f}\")\n",
    "\n",
    "scaler = sklearn.preprocessing.StandardScaler()\n",
    "scaler.fit(Xtrain)  # Every statistic we compute is found on the training data!\n",
    "\n",
    "Xtrain = scaler.transform(Xtrain)\n",
    "Xtest = scaler.transform(Xtest)\n",
    "\n",
    "print(f\"After preprocessing, test data        : \"\n",
    "      f\"min = {np.min(Xtrain):.1f}, \"\n",
    "      f\"max = {np.max(Xtrain):.1f}, \"\n",
    "      f\"mean = {np.mean(Xtrain):.1f}, \"\n",
    "      f\"std = {np.std(Xtrain):.1f}\")\n",
    "\n",
    "print(f\"After preprocessing, test data        : \"\n",
    "      f\"min = {np.min(Xtest):.1f}, \"\n",
    "      f\"max = {np.max(Xtest):.1f}, \"\n",
    "      f\"mean = {np.mean(Xtest):.1f}, \"\n",
    "      f\"std = {np.std(Xtest):.1f}\")"
   ]
  },
  {
   "cell_type": "markdown",
   "metadata": {
    "id": "_I-L0BtiwOMO"
   },
   "source": [
    "### The $k$-NN model\n",
    "\n",
    "If you take the course **5DV124**, then you will have to implement the $k$-NN classifier yourself. The below implementation uses the scikit-learn implementation of the $k$-NN classifier, but you need to do it yourself.\n",
    "\n",
    "If you take the course **5DV201**, then you can use the $k$-NN classifier from scikit-learn directly. You are of course free to also implement the $k$-NN classifier yourself, if you want to do that.\n",
    "\n",
    "In both cases, you need to perform a hyper-parameter search for the optimal number of neighbours, $k$."
   ]
  },
  {
   "cell_type": "code",
   "execution_count": 8,
   "metadata": {
    "id": "MMyn4Pt679bv"
   },
   "outputs": [],
   "source": [
    "# Create the k-NN classifier\n",
    "\n",
    "import sklearn.neighbors\n",
    "import statistics\n",
    "from statistics import mode\n",
    "\n",
    "class KNeighborsClassifier(sklearn.neighbors.KNeighborsClassifier):\n",
    "\n",
    "    def __init__(self, n_neighbors=5):\n",
    "        self.k = n_neighbors\n",
    "\n",
    "    def fit(self, X, y):\n",
    "        \"\"\" Fit model data\n",
    "\n",
    "        Keyword arguments:\n",
    "        X = Training data\n",
    "        y = Training classification data\n",
    "        \"\"\"\n",
    "        self.X = X\n",
    "        self.y = y\n",
    "\n",
    "    def predict(self, X):\n",
    "        \"\"\" Predict class (number) for provided test data.\n",
    "        returns list of predictions\n",
    "\n",
    "        Keyword arguments:\n",
    "        X = List of test sample data to predict\n",
    "        \"\"\"\n",
    "        predictions = np.zeros((len(X),), dtype=object)\n",
    "\n",
    "        for i in range(len(X)):\n",
    "            predictions[i] = self.classify(X[i])\n",
    "        \n",
    "        return predictions\n",
    "    \n",
    "    def classify(self, x):\n",
    "        \"\"\" Predict a class (number) for provided one test sample.\n",
    "        returns predicted number\n",
    "\n",
    "        Keyword arguments:\n",
    "        x = Test sample data to predict\n",
    "        \"\"\"\n",
    "        distances = []\n",
    "        for i in range(len(self.X)):\n",
    "            dist = np.linalg.norm(x - self.X[i])\n",
    "            distances.append(dist)\n",
    "        \n",
    "        a, b = zip(*sorted(zip(distances, self.y.copy())))\n",
    "        k_first = b[0:self.k]\n",
    "\n",
    "        # This beautifull line of code converts a float in string format to an integer and then back to a string format.\n",
    "        # So '5.0f' -> 5 -> '5'\n",
    "        return str(int(mode(k_first)))\n"
   ]
  },
  {
   "cell_type": "code",
   "execution_count": 9,
   "metadata": {},
   "outputs": [],
   "source": [
    "# Define cross validation functions\n",
    "\n",
    "def cross_validate(\n",
    "  model = None,\n",
    "  nr_of_folds = 5,\n",
    "  x_data = None,\n",
    "  y_data = None,\n",
    "  ):\n",
    "  \"\"\" Perform cross validation on a model and return the average score for all folds\n",
    "  Return validation score\n",
    "\n",
    "  Keyword arguments:\n",
    "  model -- the real part (default 0.0)\n",
    "  nr_of_folds -- How many folds to split the data into\n",
    "  x_data = Training data\n",
    "  y_data = Training classifiactions\n",
    "  \"\"\"\n",
    "\n",
    "  # Validate input data\n",
    "  assert model != None, \"Invalid model\"\n",
    "  assert len(x_data) == len(y_data), f\"Invalid data size - x data: {len(x_data)}, y data: {len(y_data)}\"\n",
    "  assert (nr_of_folds > 2 and nr_of_folds <= len(x_data)), f\"Invalid nr of folds: {nr_of_folds}\"\n",
    "\n",
    "  global scaler\n",
    "  validation_score = 0\n",
    "\n",
    "  x_folds = np.split(x_data.copy(), nr_of_folds)\n",
    "  y_folds = np.split(y_data.copy(), nr_of_folds)\n",
    "\n",
    "  # Loop over all folds and perform cross validation for each of them.\n",
    "  for i in range(nr_of_folds):\n",
    "    cross_test_x = np.zeros([0, 2])\n",
    "    cross_test_y = np.zeros([0, 2])\n",
    "    cross_val_x = np.zeros([0, 2])\n",
    "    cross_val_y = np.zeros([0, 2])\n",
    "    \n",
    "    # Create all folds.\n",
    "    for j, (fold_x, fold_y) in enumerate(zip(x_folds, y_folds)):\n",
    "      if i == j:\n",
    "        cross_val_x = fold_x\n",
    "        cross_val_y = fold_y\n",
    "      else:\n",
    "        # Fill test data\n",
    "        if not cross_test_x.any():\n",
    "          cross_test_x = fold_x\n",
    "          cross_test_y = fold_y\n",
    "        else:\n",
    "          cross_test_x = np.concatenate((cross_test_x, fold_x))\n",
    "          cross_test_y = np.concatenate((cross_test_y, fold_y))\n",
    "\n",
    "    \n",
    "    #cross_test_x = scaler.transform(cross_test_x)\n",
    "\n",
    "    model.fit(cross_test_x, cross_test_y)\n",
    "    validation_score = validation_score + model.score(cross_val_x, cross_val_y)\n",
    "\n",
    "  return validation_score / nr_of_folds\n",
    "\n"
   ]
  },
  {
   "cell_type": "code",
   "execution_count": 10,
   "metadata": {},
   "outputs": [
    {
     "name": "stdout",
     "output_type": "stream",
     "text": [
      "k=1..score=0.892 k=2..score=0.892 k=3..score=0.895 k=4..score=0.899 k=5..score=0.890 k=6..score=0.897 k=7..score=0.892 k=8..score=0.891 k=9..score=0.888 k=10..score=0.890 k=11..score=0.884 k=12..score=0.884 k=13..score=0.881 k=14..score=0.882 k=15..score=0.879 k=16..score=0.880 k=17..score=0.877 k=18..score=0.874 k=19..score=0.873 \n",
      "Cross validation done! Best k = 4 with score 0.8985999999999998\n"
     ]
    }
   ],
   "source": [
    "# Perform cross validation for k-NN\n",
    "\n",
    "from numpy import ndarray\n",
    "\n",
    "n = 5000\n",
    "max_k = 20\n",
    "\n",
    "errs_val = np.zeros(max_k)\n",
    "\n",
    "for k in range(1, max_k):\n",
    "  print(f\"k={k}\", end=\"..\")\n",
    "\n",
    "  knn_crossval = KNeighborsClassifier(n_neighbors=k)\n",
    "  errs_val[k] = cross_validate(model = knn_crossval, x_data = Xtrain[:n], y_data = ytrain[:n])\n",
    "\n",
    "  print(f\"score={errs_val[k]:.3f}\", end=\" \")\n",
    "\n",
    "best_score = np.amax(errs_val)\n",
    "k_best = np.where(errs_val == best_score)[0][0]\n",
    "print(f\"\\nCross validation done! Best k = {k_best} with score {best_score}\")\n"
   ]
  },
  {
   "cell_type": "code",
   "execution_count": 11,
   "metadata": {
    "id": "RUzpOWkpczOi"
   },
   "outputs": [
    {
     "name": "stdout",
     "output_type": "stream",
     "text": [
      "[0.     0.8918 0.8918 0.895  0.8986 0.8898 0.897  0.8918 0.8906 0.8882\n",
      " 0.89   0.8844 0.884  0.881  0.882  0.879  0.8796 0.877  0.8742 0.873 ]\n"
     ]
    },
    {
     "data": {
      "text/plain": [
       "Text(0, 0.5, 'Validation Accuracy')"
      ]
     },
     "execution_count": 11,
     "metadata": {},
     "output_type": "execute_result"
    },
    {
     "data": {
      "image/png": "[encoded data removed]",
      "text/plain": [
       "<Figure size 800x500 with 1 Axes>"
      ]
     },
     "metadata": {},
     "output_type": "display_data"
    }
   ],
   "source": [
    "# Plot the accuracy curve as a function of k\n",
    "\n",
    "print(errs_val)\n",
    "fig = plt.figure(figsize=(8, 5))\n",
    "fig.subplots_adjust(top=0.995,\n",
    "                    bottom=0.115,\n",
    "                    left=0.005,\n",
    "                    right=0.995,\n",
    "                    wspace=0.15,\n",
    "                    hspace=0.005)\n",
    "\n",
    "ax0 = plt.subplot2grid((1, 1), (0, 0), rowspan=1, colspan=1)\n",
    "ax0.plot(range(1, len(errs_val) + 1), errs_val)\n",
    "ax0.set_title(\"Result of $k$-NN Grid-Search\", fontsize=24)\n",
    "ax0.set_xlabel(\"Number of Neighbours, $k$\", fontsize=16)\n",
    "ax0.set_ylabel(\"Validation Accuracy\", fontsize=16)"
   ]
  },
  {
   "cell_type": "code",
   "execution_count": 12,
   "metadata": {
    "id": "FO2nAY0WvzJ5"
   },
   "outputs": [],
   "source": [
    "# Train the final k-NN model with the best value for k\n",
    "\n",
    "model_knn = KNeighborsClassifier(n_neighbors=k_best)\n",
    "model_knn.fit(Xtrain, ytrain)"
   ]
  },
  {
   "cell_type": "markdown",
   "metadata": {
    "id": "ESiZjUNjxy7b"
   },
   "source": [
    "### The neural network model\n",
    "\n",
    "We will use the neural networks (multilayer perceptrons) implemented in scikit-learn. You need to find the optimal number of layers, the number of neurons in each of the layers, and any other hyper-parameters that may be relevant."
   ]
  },
  {
   "cell_type": "code",
   "execution_count": 13,
   "metadata": {
    "id": "bC0_DAq4kHkc"
   },
   "outputs": [
    {
     "name": "stdout",
     "output_type": "stream",
     "text": [
      "Cross validation complete! Best setting: [160, 140, 200, 0.0004, 0.005] res: 0.893\n"
     ]
    }
   ],
   "source": [
    "# Create the NN classifier\n",
    "\n",
    "import sklearn.neural_network\n",
    "\n",
    "n = 1000\n",
    "\n",
    "hidden_layer_1_settings = [100, 120, 140, 160, 180, 200]\n",
    "hidden_layer_2_settings = [100, 120, 140, 160, 180, 200]\n",
    "hidden_layer_3_settings = [0, 100, 150, 200]\n",
    "alpha_settings = [0.0001, 0.0002, 0.0003, 0.0004, 0.0005]\n",
    "learning_rate_init_settings = [0.001, 0.002, 0.003, 0.004, 0.005]\n",
    "\n",
    "# This creates a list of all possible setting permutations\n",
    "permutations = [[i, j, k, l, m] for i in hidden_layer_1_settings \n",
    "                 for j in hidden_layer_2_settings\n",
    "                 for k in hidden_layer_3_settings\n",
    "                 for l in alpha_settings\n",
    "                 for m in learning_rate_init_settings]\n",
    "\n",
    "best_setting = []\n",
    "best_score = 0\n",
    "\n",
    "for i, setting in enumerate(permutations):\n",
    "\n",
    "    if setting[2] == 0:\n",
    "        hidden_layer_sizes = (setting[0], setting[1])\n",
    "    else:\n",
    "        hidden_layer_sizes = (setting[0], setting[1], setting[2])\n",
    "\n",
    "    model = sklearn.neural_network.MLPClassifier(\n",
    "        hidden_layer_sizes = hidden_layer_sizes,\n",
    "        activation = 'relu',\n",
    "        alpha = setting[3],\n",
    "        batch_size = 'auto',\n",
    "        learning_rate_init = setting[4],\n",
    "        max_iter = 200,\n",
    "    )\n",
    "\n",
    "    score = cross_validate(model = model, x_data = Xtrain[:n], y_data = ytrain[:n])\n",
    "\n",
    "    if score > best_score:\n",
    "        best_score = score\n",
    "        best_setting = setting\n",
    "\n",
    "print(f\"Cross validation complete! Best setting: {best_setting} res: {best_score}\")"
   ]
  },
  {
   "cell_type": "code",
   "execution_count": 14,
   "metadata": {
    "id": "29OqeZmELELJ"
   },
   "outputs": [
    {
     "data": {
      "text/html": [
       "<style>#sk-container-id-1 {color: black;background-color: white;}#sk-container-id-1 pre{padding: 0;}#sk-container-id-1 div.sk-toggleable {background-color: white;}#sk-container-id-1 label.sk-toggleable__label {cursor: pointer;display: block;width: 100%;margin-bottom: 0;padding: 0.3em;box-sizing: border-box;text-align: center;}#sk-container-id-1 label.sk-toggleable__label-arrow:before {content: \"▸\";float: left;margin-right: 0.25em;color: #696969;}#sk-container-id-1 label.sk-toggleable__label-arrow:hover:before {color: black;}#sk-container-id-1 div.sk-estimator:hover label.sk-toggleable__label-arrow:before {color: black;}#sk-container-id-1 div.sk-toggleable__content {max-height: 0;max-width: 0;overflow: hidden;text-align: left;background-color: #f0f8ff;}#sk-container-id-1 div.sk-toggleable__content pre {margin: 0.2em;color: black;border-radius: 0.25em;background-color: #f0f8ff;}#sk-container-id-1 input.sk-toggleable__control:checked~div.sk-toggleable__content {max-height: 200px;max-width: 100%;overflow: auto;}#sk-container-id-1 input.sk-toggleable__control:checked~label.sk-toggleable__label-arrow:before {content: \"▾\";}#sk-container-id-1 div.sk-estimator input.sk-toggleable__control:checked~label.sk-toggleable__label {background-color: #d4ebff;}#sk-container-id-1 div.sk-label input.sk-toggleable__control:checked~label.sk-toggleable__label {background-color: #d4ebff;}#sk-container-id-1 input.sk-hidden--visually {border: 0;clip: rect(1px 1px 1px 1px);clip: rect(1px, 1px, 1px, 1px);height: 1px;margin: -1px;overflow: hidden;padding: 0;position: absolute;width: 1px;}#sk-container-id-1 div.sk-estimator {font-family: monospace;background-color: #f0f8ff;border: 1px dotted black;border-radius: 0.25em;box-sizing: border-box;margin-bottom: 0.5em;}#sk-container-id-1 div.sk-estimator:hover {background-color: #d4ebff;}#sk-container-id-1 div.sk-parallel-item::after {content: \"\";width: 100%;border-bottom: 1px solid gray;flex-grow: 1;}#sk-container-id-1 div.sk-label:hover label.sk-toggleable__label {background-color: #d4ebff;}#sk-container-id-1 div.sk-serial::before {content: \"\";position: absolute;border-left: 1px solid gray;box-sizing: border-box;top: 0;bottom: 0;left: 50%;z-index: 0;}#sk-container-id-1 div.sk-serial {display: flex;flex-direction: column;align-items: center;background-color: white;padding-right: 0.2em;padding-left: 0.2em;position: relative;}#sk-container-id-1 div.sk-item {position: relative;z-index: 1;}#sk-container-id-1 div.sk-parallel {display: flex;align-items: stretch;justify-content: center;background-color: white;position: relative;}#sk-container-id-1 div.sk-item::before, #sk-container-id-1 div.sk-parallel-item::before {content: \"\";position: absolute;border-left: 1px solid gray;box-sizing: border-box;top: 0;bottom: 0;left: 50%;z-index: -1;}#sk-container-id-1 div.sk-parallel-item {display: flex;flex-direction: column;z-index: 1;position: relative;background-color: white;}#sk-container-id-1 div.sk-parallel-item:first-child::after {align-self: flex-end;width: 50%;}#sk-container-id-1 div.sk-parallel-item:last-child::after {align-self: flex-start;width: 50%;}#sk-container-id-1 div.sk-parallel-item:only-child::after {width: 0;}#sk-container-id-1 div.sk-dashed-wrapped {border: 1px dashed gray;margin: 0 0.4em 0.5em 0.4em;box-sizing: border-box;padding-bottom: 0.4em;background-color: white;}#sk-container-id-1 div.sk-label label {font-family: monospace;font-weight: bold;display: inline-block;line-height: 1.2em;}#sk-container-id-1 div.sk-label-container {text-align: center;}#sk-container-id-1 div.sk-container {/* jupyter's `normalize.less` sets `[hidden] { display: none; }` but bootstrap.min.css set `[hidden] { display: none !important; }` so we also need the `!important` here to be able to override the default hidden behavior on the sphinx rendered scikit-learn.org. See: https://github.com/scikit-learn/scikit-learn/issues/21755 */display: inline-block !important;position: relative;}#sk-container-id-1 div.sk-text-repr-fallback {display: none;}</style><div id=\"sk-container-id-1\" class=\"sk-top-container\"><div class=\"sk-text-repr-fallback\"><pre>MLPClassifier(alpha=0.0004, hidden_layer_sizes=(160, 140, 200),\n",
       "              learning_rate_init=0.005)</pre><b>In a Jupyter environment, please rerun this cell to show the HTML representation or trust the notebook. <br />On GitHub, the HTML representation is unable to render, please try loading this page with nbviewer.org.</b></div><div class=\"sk-container\" hidden><div class=\"sk-item\"><div class=\"sk-estimator sk-toggleable\"><input class=\"sk-toggleable__control sk-hidden--visually\" id=\"sk-estimator-id-1\" type=\"checkbox\" checked><label for=\"sk-estimator-id-1\" class=\"sk-toggleable__label sk-toggleable__label-arrow\">MLPClassifier</label><div class=\"sk-toggleable__content\"><pre>MLPClassifier(alpha=0.0004, hidden_layer_sizes=(160, 140, 200),\n",
       "              learning_rate_init=0.005)</pre></div></div></div></div></div>"
      ],
      "text/plain": [
       "MLPClassifier(alpha=0.0004, hidden_layer_sizes=(160, 140, 200),\n",
       "              learning_rate_init=0.005)"
      ]
     },
     "execution_count": 14,
     "metadata": {},
     "output_type": "execute_result"
    }
   ],
   "source": [
    "# Train the final model using the best settings\n",
    "\n",
    "if best_setting[2] == 0:\n",
    "    hidden_layer_sizes_best = (best_setting[0], best_setting[1])\n",
    "else:\n",
    "    hidden_layer_sizes_best = (best_setting[0], best_setting[1], best_setting[2])\n",
    "\n",
    "model_ann = sklearn.neural_network.MLPClassifier(\n",
    "    hidden_layer_sizes = hidden_layer_sizes_best,\n",
    "    alpha = best_setting[3],\n",
    "    batch_size = 'auto',\n",
    "    learning_rate_init = best_setting[4],\n",
    "    max_iter = 200,\n",
    ")\n",
    "\n",
    "model_ann.fit(Xtrain, ytrain)"
   ]
  },
  {
   "cell_type": "markdown",
   "metadata": {
    "id": "_iqH_Kj24hDG"
   },
   "source": [
    "Once we have selected our final model, we can compute the test error on the final models as the last thing we do. Make sure to only do this at the very end, after you have selected the best models you can find."
   ]
  },
  {
   "cell_type": "code",
   "execution_count": 16,
   "metadata": {
    "id": "vuQfK309lkf4"
   },
   "outputs": [
    {
     "name": "stdout",
     "output_type": "stream",
     "text": [
      "k-NN model training data accuracy  : 0.9776952380952381\n",
      "k-NN model test data accuracy      : 0.9477142857142857\n",
      "ANN model training data accuracy   : 0.997447619047619\n",
      "ANN model test data accuracy       : 0.9750857142857143\n"
     ]
    }
   ],
   "source": [
    "# Evaluate the final model on all the data sets, including the test data. We\n",
    "# only evaluate the test data once, and as the last thing we do. If you train\n",
    "# another model after this, based on the performance on the test data, then your\n",
    "# test data is effectively a validation dataset, and you no longer have a test\n",
    "# dataset. (Or, if you keep your test data set, then your results are biased and\n",
    "# by that unreliable.)\n",
    "print(f\"k-NN model training data accuracy  : {model_knn.score(Xtrain, ytrain)}\")\n",
    "print(f\"k-NN model test data accuracy      : {model_knn.score(Xtest, ytest)}\")\n",
    "\n",
    "print(f\"ANN model training data accuracy   : {model_ann.score(Xtrain, ytrain)}\")\n",
    "print(f\"ANN model test data accuracy       : {model_ann.score(Xtest, ytest)}\")\n"
   ]
  }
 ],
 "metadata": {
  "colab": {
   "collapsed_sections": [],
   "name": "assignment_classification.ipynb",
   "provenance": []
  },
  "kernelspec": {
   "display_name": "Python 3.9.0 64-bit",
   "language": "python",
   "name": "python3"
  },
  "language_info": {
   "codemirror_mode": {
    "name": "ipython",
    "version": 3
   },
   "file_extension": ".py",
   "mimetype": "text/x-python",
   "name": "python",
   "nbconvert_exporter": "python",
   "pygments_lexer": "ipython3",
   "version": "3.9.0"
  },
  "vscode": {
   "interpreter": {
    "hash": "c4f35926ce82a8a21a96c739afa6c20714082419743cc69f1d93a7e39b495e30"
   }
  }
 },
 "nbformat": 4,
 "nbformat_minor": 4
}
